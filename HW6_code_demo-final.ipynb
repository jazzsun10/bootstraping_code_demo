{
 "cells": [
  {
   "cell_type": "markdown",
   "metadata": {},
   "source": [
    "#### Bootstrapping Code Demonstration"
   ]
  },
  {
   "cell_type": "markdown",
   "metadata": {},
   "source": [
    "#### **RECAP**\n",
    "\n",
    "##### Bootstrapping \n",
    "A statistical method that uses the observed data to simulate resamplings from the population, which we calculate a statistic each time, and use the dstribution of the simulated statistic to approximate characteritics of the population.\n",
    "\n",
    "\n",
    "##### Bootstrapping Process\n",
    "1. treat the sample as the “population”;\n",
    "\n",
    "2. take repeated samples **with replacement** and record the estimate;\n",
    "\n",
    "3. repeat the above process for a large number of iterations;\n",
    "\n",
    "4. form a data distribution;\n",
    "\n",
    "5. do the inference work from the above empirical data distribution.\n",
    "\n",
    "##### Why Bootstrapp\n",
    "a. make no assumption about population distribution <br>\n",
    "b. can estimate properties of any given statistics <br>\n",
    "c. easy to construct the 95% CI from the resampling distribution"
   ]
  },
  {
   "cell_type": "markdown",
   "metadata": {},
   "source": [
    "#### Code Demo: Use bootstrap to estimate population parameters"
   ]
  },
  {
   "cell_type": "code",
   "execution_count": 1,
   "metadata": {},
   "outputs": [],
   "source": [
    "import numpy as np\n",
    "import matplotlib.pyplot as plt"
   ]
  },
  {
   "cell_type": "markdown",
   "metadata": {},
   "source": [
    "Step 1: Population Distribution"
   ]
  },
  {
   "cell_type": "code",
   "execution_count": 2,
   "metadata": {},
   "outputs": [
    {
     "data": {
      "image/png": "[encoded data removed]",
      "text/plain": [
       "<Figure size 432x288 with 1 Axes>"
      ]
     },
     "metadata": {
      "needs_background": "light"
     },
     "output_type": "display_data"
    }
   ],
   "source": [
    "np.random.seed(123)  # to set seed for consistency\n",
    "# simulated population distribution\n",
    "weight_pop = np.random.randint(100, 250, size=500000)\n",
    "plt.hist(weight_pop, bins=50)\n",
    "plt.title('Uniform Population Distribution 100-250')\n",
    "plt.show()"
   ]
  },
  {
   "cell_type": "code",
   "execution_count": 3,
   "metadata": {},
   "outputs": [
    {
     "name": "stdout",
     "output_type": "stream",
     "text": [
      "174.608488 43.26725993582048\n"
     ]
    }
   ],
   "source": [
    "print(np.mean(weight_pop), np.std(weight_pop))  # population mean"
   ]
  },
  {
   "cell_type": "markdown",
   "metadata": {},
   "source": [
    "step 2: take a random sample from the population"
   ]
  },
  {
   "cell_type": "code",
   "execution_count": 4,
   "metadata": {},
   "outputs": [
    {
     "data": {
      "text/plain": [
       "(166.0, 36.837480912787726)"
      ]
     },
     "execution_count": 4,
     "metadata": {},
     "output_type": "execute_result"
    }
   ],
   "source": [
    "weight_sample = np.random.choice(weight_pop, size=50)\n",
    "sample_mean = np.mean(weight_sample)  # sample mean\n",
    "sample_std = np.std(weight_sample)  # sample std\n",
    "sample_mean, sample_std"
   ]
  },
  {
   "cell_type": "markdown",
   "metadata": {},
   "source": [
    "step 3: bootstrap for 10,000 times\n"
   ]
  },
  {
   "cell_type": "code",
   "execution_count": 5,
   "metadata": {},
   "outputs": [
    {
     "data": {
      "text/plain": [
       "array([164.26, 156.02, 165.06, 174.46, 161.08, 170.44, 164.96, 163.98,\n",
       "       175.04, 159.28])"
      ]
     },
     "execution_count": 5,
     "metadata": {},
     "output_type": "execute_result"
    }
   ],
   "source": [
    "boot_means = []\n",
    "k = 10000\n",
    "for _ in range(k):\n",
    "    # take a random sample each iteration with replacement\n",
    "    boot_sample = np.random.choice(weight_sample, replace=True, size=50)\n",
    "    boot_mean = np.mean(boot_sample)  # calculate the mean for each iteration\n",
    "    boot_means.append(boot_mean)  # append the mean to boot_means\n",
    "# transform it into a numpy array for calculation\n",
    "boot_means_np = np.array(boot_means)\n",
    "boot_means_np[:10]"
   ]
  },
  {
   "cell_type": "code",
   "execution_count": 6,
   "metadata": {},
   "outputs": [
    {
     "data": {
      "image/png": "[encoded data removed]",
      "text/plain": [
       "<Figure size 432x288 with 1 Axes>"
      ]
     },
     "metadata": {
      "needs_background": "light"
     },
     "output_type": "display_data"
    }
   ],
   "source": [
    "plt.hist(boot_means_np, bins=30)\n",
    "plt.title('Bootstrap Sampling Distribution')\n",
    "plt.show()"
   ]
  },
  {
   "cell_type": "markdown",
   "metadata": {},
   "source": [
    "step 4: analysis and interpretation\n"
   ]
  },
  {
   "cell_type": "code",
   "execution_count": 7,
   "metadata": {},
   "outputs": [
    {
     "name": "stdout",
     "output_type": "stream",
     "text": [
      "bootstrap mean is 166.05041 | bootstrap std is 5.211882822157459\n",
      "sample mean is 166.0\n",
      "original population mean is 174.608488\n"
     ]
    }
   ],
   "source": [
    "boot_means = np.mean(boot_means_np)  # bootstrapped sample means\n",
    "print('bootstrap mean is', boot_means,\n",
    "      '| bootstrap std is', np.std(boot_means_np))\n",
    "print('sample mean is', sample_mean)\n",
    "print('original population mean is', np.mean(weight_pop))"
   ]
  },
  {
   "cell_type": "code",
   "execution_count": 8,
   "metadata": {},
   "outputs": [
    {
     "data": {
      "text/plain": [
       "array([156.18 , 176.201])"
      ]
     },
     "execution_count": 8,
     "metadata": {},
     "output_type": "execute_result"
    }
   ],
   "source": [
    "np.percentile(boot_means_np, [2.5, 97.5])  # 95% C.I."
   ]
  },
  {
   "cell_type": "code",
   "execution_count": 9,
   "metadata": {},
   "outputs": [
    {
     "data": {
      "image/png": "[encoded data removed]",
      "text/plain": [
       "<Figure size 432x288 with 1 Axes>"
      ]
     },
     "metadata": {
      "needs_background": "light"
     },
     "output_type": "display_data"
    }
   ],
   "source": [
    "plt.hist(boot_means_np, bins=30, alpha=1)\n",
    "plt.axvline(np.percentile(boot_means_np, 2.5), color='red', linewidth=2)\n",
    "plt.axvline(np.percentile(boot_means_np, 97.5), color='red', linewidth=2)\n",
    "plt.axvline(np.mean(weight_pop), color='green', linewidth=2)\n",
    "\n",
    "plt.show()"
   ]
  },
  {
   "cell_type": "markdown",
   "metadata": {},
   "source": [
    "In 95% of the time, the true population mean lies between 156 and 176."
   ]
  },
  {
   "cell_type": "markdown",
   "metadata": {},
   "source": [
    "#### What if we have parameters which standard error cannot be easily calculated? \n"
   ]
  },
  {
   "cell_type": "code",
   "execution_count": 10,
   "metadata": {},
   "outputs": [
    {
     "data": {
      "text/plain": [
       "160.5"
      ]
     },
     "execution_count": 10,
     "metadata": {},
     "output_type": "execute_result"
    }
   ],
   "source": [
    "sample_median = np.median(weight_sample)  # sample mean\n",
    "sample_median"
   ]
  },
  {
   "cell_type": "code",
   "execution_count": 11,
   "metadata": {},
   "outputs": [
    {
     "data": {
      "text/plain": [
       "array([168. , 168. , 154. , 159. , 154. , 148.5, 175. , 153. , 162. ,\n",
       "       169. ])"
      ]
     },
     "execution_count": 11,
     "metadata": {},
     "output_type": "execute_result"
    }
   ],
   "source": [
    "boot_medians = []\n",
    "k = 10000\n",
    "for _ in range(k):\n",
    "    # take a random sample each iteration\n",
    "    boot_sample = np.random.choice(weight_sample, replace=True, size=50)\n",
    "    # calculate the mean for each iteration\n",
    "    boot_median = np.median(boot_sample)\n",
    "    boot_medians.append(boot_median)  # append the mean to boot_means\n",
    "# transform it into a numpy array for calculation\n",
    "boot_medians_np = np.array(boot_medians)\n",
    "boot_medians_np[:10]"
   ]
  },
  {
   "cell_type": "code",
   "execution_count": 12,
   "metadata": {},
   "outputs": [
    {
     "name": "stdout",
     "output_type": "stream",
     "text": [
      "bootstrap median is 160.5\n",
      "population median is 160.5\n"
     ]
    },
    {
     "data": {
      "text/plain": [
       "array([149., 177.])"
      ]
     },
     "execution_count": 12,
     "metadata": {},
     "output_type": "execute_result"
    }
   ],
   "source": [
    "print('bootstrap median is', np.median(boot_medians_np))\n",
    "print('population median is', np.median(boot_medians_np))\n",
    "\n",
    "np.percentile(boot_medians_np, [2.5, 97.5])  # 95% C.I."
   ]
  },
  {
   "cell_type": "code",
   "execution_count": 13,
   "metadata": {},
   "outputs": [
    {
     "data": {
      "image/png": "[encoded data removed]",
      "text/plain": [
       "<Figure size 432x288 with 1 Axes>"
      ]
     },
     "metadata": {
      "needs_background": "light"
     },
     "output_type": "display_data"
    }
   ],
   "source": [
    "plt.hist(boot_medians_np, bins=10, alpha=1)\n",
    "plt.axvline(np.percentile(boot_medians_np, 2.5), color='red', linewidth=2)\n",
    "plt.axvline(np.percentile(boot_medians_np, 97.5), color='red', linewidth=2)\n",
    "plt.axvline(np.median(weight_pop), color='green', linewidth=2)\n",
    "\n",
    "plt.show()"
   ]
  },
  {
   "cell_type": "markdown",
   "metadata": {},
   "source": [
    "### Taking spotify data for example"
   ]
  },
  {
   "cell_type": "code",
   "execution_count": 14,
   "metadata": {},
   "outputs": [],
   "source": [
    "# dummy variables\n",
    "\n",
    "import matplotlib.pyplot as plt\n",
    "import pandas as pd\n",
    "import numpy as np\n",
    "import statsmodels.api as sm\n",
    "import statsmodels.formula.api as smf"
   ]
  },
  {
   "cell_type": "markdown",
   "metadata": {},
   "source": [
    "### Step1: To get population data"
   ]
  },
  {
   "cell_type": "code",
   "execution_count": 15,
   "metadata": {},
   "outputs": [
    {
     "data": {
      "text/html": [
       "<div>\n",
       "<style scoped>\n",
       "    .dataframe tbody tr th:only-of-type {\n",
       "        vertical-align: middle;\n",
       "    }\n",
       "\n",
       "    .dataframe tbody tr th {\n",
       "        vertical-align: top;\n",
       "    }\n",
       "\n",
       "    .dataframe thead th {\n",
       "        text-align: right;\n",
       "    }\n",
       "</style>\n",
       "<table border=\"1\" class=\"dataframe\">\n",
       "  <thead>\n",
       "    <tr style=\"text-align: right;\">\n",
       "      <th></th>\n",
       "      <th>artist</th>\n",
       "      <th>song</th>\n",
       "      <th>duration_ms</th>\n",
       "      <th>explicit</th>\n",
       "      <th>year</th>\n",
       "      <th>popularity</th>\n",
       "      <th>danceability</th>\n",
       "      <th>energy</th>\n",
       "      <th>key</th>\n",
       "      <th>loudness</th>\n",
       "      <th>mode</th>\n",
       "      <th>speechiness</th>\n",
       "      <th>acousticness</th>\n",
       "      <th>instrumentalness</th>\n",
       "      <th>liveness</th>\n",
       "      <th>valence</th>\n",
       "      <th>tempo</th>\n",
       "      <th>genre</th>\n",
       "    </tr>\n",
       "  </thead>\n",
       "  <tbody>\n",
       "    <tr>\n",
       "      <th>93</th>\n",
       "      <td>The Corrs</td>\n",
       "      <td>Breathless</td>\n",
       "      <td>207506</td>\n",
       "      <td>False</td>\n",
       "      <td>2000</td>\n",
       "      <td>68</td>\n",
       "      <td>0.607</td>\n",
       "      <td>0.820</td>\n",
       "      <td>11</td>\n",
       "      <td>-7.754</td>\n",
       "      <td>1</td>\n",
       "      <td>0.0597</td>\n",
       "      <td>0.0541</td>\n",
       "      <td>0.000068</td>\n",
       "      <td>0.269</td>\n",
       "      <td>0.768</td>\n",
       "      <td>126.988</td>\n",
       "      <td>pop, Folk/Acoustic</td>\n",
       "    </tr>\n",
       "    <tr>\n",
       "      <th>1373</th>\n",
       "      <td>Bastille</td>\n",
       "      <td>Pompeii</td>\n",
       "      <td>214147</td>\n",
       "      <td>False</td>\n",
       "      <td>2013</td>\n",
       "      <td>74</td>\n",
       "      <td>0.679</td>\n",
       "      <td>0.715</td>\n",
       "      <td>9</td>\n",
       "      <td>-6.383</td>\n",
       "      <td>1</td>\n",
       "      <td>0.0407</td>\n",
       "      <td>0.0755</td>\n",
       "      <td>0.000000</td>\n",
       "      <td>0.271</td>\n",
       "      <td>0.571</td>\n",
       "      <td>127.435</td>\n",
       "      <td>pop, rock</td>\n",
       "    </tr>\n",
       "    <tr>\n",
       "      <th>1096</th>\n",
       "      <td>Matt Cardle</td>\n",
       "      <td>When We Collide</td>\n",
       "      <td>226000</td>\n",
       "      <td>False</td>\n",
       "      <td>2011</td>\n",
       "      <td>46</td>\n",
       "      <td>0.443</td>\n",
       "      <td>0.683</td>\n",
       "      <td>2</td>\n",
       "      <td>-5.521</td>\n",
       "      <td>1</td>\n",
       "      <td>0.0343</td>\n",
       "      <td>0.0198</td>\n",
       "      <td>0.000005</td>\n",
       "      <td>0.313</td>\n",
       "      <td>0.447</td>\n",
       "      <td>81.986</td>\n",
       "      <td>pop</td>\n",
       "    </tr>\n",
       "    <tr>\n",
       "      <th>862</th>\n",
       "      <td>The Ting Tings</td>\n",
       "      <td>Shut Up and Let Me Go</td>\n",
       "      <td>171226</td>\n",
       "      <td>False</td>\n",
       "      <td>2007</td>\n",
       "      <td>55</td>\n",
       "      <td>0.852</td>\n",
       "      <td>0.927</td>\n",
       "      <td>7</td>\n",
       "      <td>-4.497</td>\n",
       "      <td>1</td>\n",
       "      <td>0.0581</td>\n",
       "      <td>0.0109</td>\n",
       "      <td>0.002680</td>\n",
       "      <td>0.054</td>\n",
       "      <td>0.887</td>\n",
       "      <td>107.993</td>\n",
       "      <td>pop, rock, Dance/Electronic</td>\n",
       "    </tr>\n",
       "    <tr>\n",
       "      <th>1363</th>\n",
       "      <td>Drake</td>\n",
       "      <td>Started From the Bottom</td>\n",
       "      <td>174120</td>\n",
       "      <td>True</td>\n",
       "      <td>2013</td>\n",
       "      <td>65</td>\n",
       "      <td>0.794</td>\n",
       "      <td>0.523</td>\n",
       "      <td>8</td>\n",
       "      <td>-7.829</td>\n",
       "      <td>1</td>\n",
       "      <td>0.1610</td>\n",
       "      <td>0.0331</td>\n",
       "      <td>0.000000</td>\n",
       "      <td>0.156</td>\n",
       "      <td>0.560</td>\n",
       "      <td>86.307</td>\n",
       "      <td>hip hop, pop, R&amp;B</td>\n",
       "    </tr>\n",
       "  </tbody>\n",
       "</table>\n",
       "</div>"
      ],
      "text/plain": [
       "              artist                     song  duration_ms  explicit  year  \\\n",
       "93         The Corrs               Breathless       207506     False  2000   \n",
       "1373        Bastille                  Pompeii       214147     False  2013   \n",
       "1096     Matt Cardle          When We Collide       226000     False  2011   \n",
       "862   The Ting Tings    Shut Up and Let Me Go       171226     False  2007   \n",
       "1363           Drake  Started From the Bottom       174120      True  2013   \n",
       "\n",
       "      popularity  danceability  energy  key  loudness  mode  speechiness  \\\n",
       "93            68         0.607   0.820   11    -7.754     1       0.0597   \n",
       "1373          74         0.679   0.715    9    -6.383     1       0.0407   \n",
       "1096          46         0.443   0.683    2    -5.521     1       0.0343   \n",
       "862           55         0.852   0.927    7    -4.497     1       0.0581   \n",
       "1363          65         0.794   0.523    8    -7.829     1       0.1610   \n",
       "\n",
       "      acousticness  instrumentalness  liveness  valence    tempo  \\\n",
       "93          0.0541          0.000068     0.269    0.768  126.988   \n",
       "1373        0.0755          0.000000     0.271    0.571  127.435   \n",
       "1096        0.0198          0.000005     0.313    0.447   81.986   \n",
       "862         0.0109          0.002680     0.054    0.887  107.993   \n",
       "1363        0.0331          0.000000     0.156    0.560   86.307   \n",
       "\n",
       "                            genre  \n",
       "93             pop, Folk/Acoustic  \n",
       "1373                    pop, rock  \n",
       "1096                          pop  \n",
       "862   pop, rock, Dance/Electronic  \n",
       "1363            hip hop, pop, R&B  "
      ]
     },
     "execution_count": 15,
     "metadata": {},
     "output_type": "execute_result"
    }
   ],
   "source": [
    "spotify_population = pd.read_csv('songs_normalize.csv')\n",
    "spotify_population.sample(5)"
   ]
  },
  {
   "cell_type": "markdown",
   "metadata": {},
   "source": [
    "### Step2: To get sampling data"
   ]
  },
  {
   "cell_type": "code",
   "execution_count": 16,
   "metadata": {},
   "outputs": [],
   "source": [
    "# Extract 500 random samples from population\n",
    "spotify_sample = spotify_population.sample(n=500, random_state=1)"
   ]
  },
  {
   "cell_type": "markdown",
   "metadata": {},
   "source": [
    "### Step3: Bootstrap for 2000 times."
   ]
  },
  {
   "cell_type": "code",
   "execution_count": 17,
   "metadata": {},
   "outputs": [],
   "source": [
    "# Replicate this 2000 times\n",
    "mean_popularity_2000 = []\n",
    "k = 2000\n",
    "for i in range(k):\n",
    "    mean_popularity_2000.append(\n",
    "        np.mean(spotify_sample.sample(frac=1, replace=True)['popularity'])\n",
    "        # A random 100% sample of the DataFrame with replacement:\n",
    "    )"
   ]
  },
  {
   "cell_type": "code",
   "execution_count": 18,
   "metadata": {},
   "outputs": [
    {
     "data": {
      "image/png": "[encoded data removed]",
      "text/plain": [
       "<Figure size 432x288 with 1 Axes>"
      ]
     },
     "metadata": {
      "needs_background": "light"
     },
     "output_type": "display_data"
    }
   ],
   "source": [
    "# Draw a histogram of the resample means\n",
    "plt.hist(mean_popularity_2000)\n",
    "plt.show()"
   ]
  },
  {
   "cell_type": "markdown",
   "metadata": {},
   "source": [
    "#### Comparing sampling and bootstrap distributions"
   ]
  },
  {
   "cell_type": "markdown",
   "metadata": {},
   "source": [
    "- sampling distribution\n",
    "- Generate a sampling distribution of 2000 replicates.\n",
    "- Sample 500 rows of the population without replacement and calculate the mean popularity."
   ]
  },
  {
   "cell_type": "code",
   "execution_count": 19,
   "metadata": {},
   "outputs": [],
   "source": [
    "mean_popularity_2000_samp = []\n",
    "\n",
    "# Generate a sampling distribution of 2000 replicates\n",
    "for i in range(2000):\n",
    "    mean_popularity_2000_samp.append(\n",
    "        # Sample 500 rows and calculate the mean popularity\n",
    "        spotify_population.sample(n=500)['popularity'].mean()\n",
    "    )"
   ]
  },
  {
   "cell_type": "markdown",
   "metadata": {},
   "source": [
    "- bootstrap distribution\n",
    "- Generate a bootstrap distribution of 2000 replicates.\n",
    "- Sample 500 rows of the sample with replacement and calculate the mean popularity."
   ]
  },
  {
   "cell_type": "code",
   "execution_count": 20,
   "metadata": {},
   "outputs": [],
   "source": [
    "mean_popularity_2000_boot = []\n",
    "\n",
    "# Generate a bootstrap distribution of 1000 replicates\n",
    "for i in range(2000):\n",
    "    mean_popularity_2000_boot.append(\n",
    "        # Resample 500 rows and calculate the mean popularity\n",
    "        spotify_sample.sample(n=500, replace=True)['popularity'].mean()\n",
    "    )"
   ]
  },
  {
   "cell_type": "markdown",
   "metadata": {},
   "source": [
    "### Compare sampling and bootstrap means"
   ]
  },
  {
   "cell_type": "code",
   "execution_count": 21,
   "metadata": {},
   "outputs": [],
   "source": [
    "sampling_distribution = mean_popularity_2000_samp\n",
    "bootstrap_distribution = mean_popularity_2000_boot"
   ]
  },
  {
   "cell_type": "code",
   "execution_count": 22,
   "metadata": {},
   "outputs": [
    {
     "name": "stdout",
     "output_type": "stream",
     "text": [
      "population mean is 59.8725, sample mean is 58.748\n",
      "sample dist. mean is 59.87877400000001, bootstrap dist. mean is 58.783049\n"
     ]
    }
   ],
   "source": [
    "# Calculate the population mean popularity\n",
    "pop_mean = spotify_population['popularity'].mean()\n",
    "\n",
    "# Calculate the original sample mean popularity\n",
    "samp_mean = spotify_sample['popularity'].mean()\n",
    "\n",
    "# Calculate the sampling dist'n estimate of mean popularity\n",
    "samp_distn_mean = np.mean(sampling_distribution)\n",
    "\n",
    "# Calculate the bootstrap dist'n estimate of mean popularity\n",
    "boot_distn_mean = np.mean(bootstrap_distribution)\n",
    "\n",
    "# Print the means\n",
    "print(f'population mean is {pop_mean}, sample mean is {samp_mean}')\n",
    "print(\n",
    "    f'sample dist. mean is {samp_distn_mean}, bootstrap dist. mean is {boot_distn_mean}')"
   ]
  },
  {
   "cell_type": "markdown",
   "metadata": {},
   "source": [
    "- The sampling distribution mean is the best estimate of the true population mean; \n",
    "- the bootstrap distribution mean is closest to the original sample mean."
   ]
  },
  {
   "cell_type": "markdown",
   "metadata": {
    "tags": []
   },
   "source": [
    "#### Calculating confidence intervals"
   ]
  },
  {
   "cell_type": "code",
   "execution_count": 23,
   "metadata": {},
   "outputs": [
    {
     "name": "stdout",
     "output_type": "stream",
     "text": [
      "(56.8357, 60.7562)\n"
     ]
    }
   ],
   "source": [
    "# Generate a 95% confidence interval using the quantile method\n",
    "lower_quant = np.quantile(bootstrap_distribution, 0.025)\n",
    "upper_quant = np.quantile(bootstrap_distribution, 0.975)\n",
    "\n",
    "# Print quantile method confidence interval\n",
    "print((lower_quant, upper_quant))"
   ]
  },
  {
   "cell_type": "code",
   "execution_count": 24,
   "metadata": {},
   "outputs": [
    {
     "data": {
      "image/png": "[encoded data removed]",
      "text/plain": [
       "<Figure size 432x288 with 1 Axes>"
      ]
     },
     "metadata": {
      "needs_background": "light"
     },
     "output_type": "display_data"
    }
   ],
   "source": [
    "plt.hist(bootstrap_distribution, bins=10, alpha=1)\n",
    "plt.axvline(np.percentile(bootstrap_distribution, 2.5), color='red', linewidth=2)\n",
    "plt.axvline(np.percentile(bootstrap_distribution, 97.5), color='red', linewidth=2)\n",
    "plt.axvline(np.mean(spotify_population['popularity']), color='green', linewidth=2)\n",
    "\n",
    "plt.show()"
   ]
  },
  {
   "cell_type": "code",
   "execution_count": null,
   "metadata": {},
   "outputs": [],
   "source": []
  }
 ],
 "metadata": {
  "kernelspec": {
   "display_name": "Python 3 (ipykernel)",
   "language": "python",
   "name": "python3"
  },
  "language_info": {
   "codemirror_mode": {
    "name": "ipython",
    "version": 3
   },
   "file_extension": ".py",
   "mimetype": "text/x-python",
   "name": "python",
   "nbconvert_exporter": "python",
   "pygments_lexer": "ipython3",
   "version": "3.7.6"
  },
  "vscode": {
   "interpreter": {
    "hash": "0e651ad1b379086ab448384a5c2ad16955a23c0eae761b7ec4f317368531dfea"
   }
  }
 },
 "nbformat": 4,
 "nbformat_minor": 4
}
